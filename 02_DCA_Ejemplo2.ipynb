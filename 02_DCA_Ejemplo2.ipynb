{
  "nbformat": 4,
  "nbformat_minor": 0,
  "metadata": {
    "colab": {
      "provenance": [],
      "authorship_tag": "ABX9TyMEr6PbNYf2KQJmM+GhnyqH",
      "include_colab_link": true
    },
    "kernelspec": {
      "name": "python3",
      "display_name": "Python 3"
    },
    "language_info": {
      "name": "python"
    }
  },
  "cells": [
    {
      "cell_type": "markdown",
      "metadata": {
        "id": "view-in-github",
        "colab_type": "text"
      },
      "source": [
        "<a href=\"https://colab.research.google.com/github/JSEFERINO/CURSO2024/blob/main/02_DCA_Ejemplo2.ipynb\" target=\"_parent\"><img src=\"https://colab.research.google.com/assets/colab-badge.svg\" alt=\"Open In Colab\"/></a>"
      ]
    },
    {
      "cell_type": "markdown",
      "source": [
        "#  **Tema 1: Diseños Completos Aleatorizados - Ejemplo2**</span>\n",
        "### **Problema:**\n",
        "+ **La vida anaquel de las carnes almacenadas es el tiempo que un corte previamente empacado es sano, nutritivo y vendible. Un paquete normal expuesto al aire ambiental tiene una vida aproximada de 48 horas, después de las cuales la carne comienza a deteriorarse por contaminación de microbios, degeneración del color y encogimiento. El empaque al vacío es efectivo para suprimir el desarrollo de microbios; sinembargo, continúan siendo un problema los otros aspectos. Algunos estudios recientes sugieren las atmósferas controladas de gas, como alternativa a los empaques actuales. Dos atmósferas que prometen combinar la capacidad de suprimir el desarrollo de microbios con las conservación de las cualidades de la carne son:**\n",
        "\n",
        "+ **Dióxido de carbono puro (CO₂)**\n",
        "+ **Mezclas de monóxido de carbono (CO), oxígeno (O₂) y nitrogeno (N)**\n",
        "\n",
        "+ **Hipótesis de la investigación. Con base en esta nueva información, el investigador plantea la hipótesis de que alguna forma de atmósfera controlada proporcionará un entorno mes efectivo de empaque para almacenamiento de la carne\n",
        "Diseño del tratamiento. El diseño del tratamiento desarrollado por el investigador para evaluar la hipótesis incluyó empaques con:**\n",
        "\t- **A:=aire del ambiente con un empaque comercial de plástico;**\n",
        "\t- **B:=al vacío;**\n",
        "\t- **C:=una mezcla con gases con 1%C0, 40%O₂ y 59%N;**\n",
        "\t- **D:=100%CO₂**\n",
        "\n",
        "+ Los empaque con el aire del ambiente y al vacío sirven como tratamientos de control, ya que ambos son estándares con cuya efectividad se puede comparar la de los nuevos empaques.\n",
        "+ Se usó un diseño totalmente aleatorizado para el experimento. A cada conjunto de condiciones de empaque se le asignaron al azar 3 cortes del mismo tamaño (75 g). Cada corte se empacó por separado en las condiciones asignadas.\n",
        "En este ejemplo se valúa la efectividad de cada tratamiento para suprimir el desarrollo bacterial.\n",
        "+ Después de 9 días de almacenamiento a 4°C en una instalación normal, se midió el número de bacterias sicotrópicas en la carne.\n",
        "+ Las bacterias sicotrópicas se encuentran en la superficie de la carne y se asocia con la carne deteriorada.\n",
        "\n",
        "+ La variable de observación es el crecimiento bacterial el cual se expresa como el logaritmo del número de bacterias por centímetro cuadrado.\n",
        "\n",
        "\n",
        "\n",
        "|Empaque |||\tlog(N°/cm²)\n",
        "|:--:|:--:|:--:|:--:|\n",
        "|A\t|7.66\t|6.98\t|7.80\n",
        "|B\t|5.26\t|5.44\t|5.80\n",
        "|C\t|7.41\t|7.33\t|7.04\n",
        "|D\t|3.51\t|2.91\t|3.66\n",
        "\n"
      ],
      "metadata": {
        "id": "4Tt1l5etgotn"
      }
    },
    {
      "cell_type": "markdown",
      "source": [
        "## **Paso_1. Ingresamos los datos manual**"
      ],
      "metadata": {
        "id": "iFC-fTx8h8iC"
      }
    },
    {
      "cell_type": "code",
      "source": [
        "import pandas as pd\n",
        "\n",
        "# Datos proporcionados\n",
        "crecimiento = [[7.66, 5.26, 7.41, 3.51],\n",
        "            [6.98, 5.44, 7.33, 2.91],\n",
        "            [7.80, 5.80, 7.04, 3.66]]\n",
        "\n",
        "columnas = ['A', 'B', 'C', 'D'] # Nombres de las columnas\n",
        "filas = ['F1', 'F2', 'F3'] # Nombres de las filas\n",
        "\n",
        "# Crear DataFrame\n",
        "Datos = pd.DataFrame(crecimiento, columns=columnas, index=filas)\n",
        "Datos\n"
      ],
      "metadata": {
        "id": "A5AyJWeMhgUP",
        "colab": {
          "base_uri": "https://localhost:8080/",
          "height": 143
        },
        "outputId": "80452018-c8d8-479f-c279-f7a0b7917c91"
      },
      "execution_count": 5,
      "outputs": [
        {
          "output_type": "execute_result",
          "data": {
            "text/plain": [
              "       A     B     C     D\n",
              "F1  7.66  5.26  7.41  3.51\n",
              "F2  6.98  5.44  7.33  2.91\n",
              "F3  7.80  5.80  7.04  3.66"
            ],
            "text/html": [
              "\n",
              "  <div id=\"df-7e9af5d6-16a2-442a-94eb-7f838415c5a9\" class=\"colab-df-container\">\n",
              "    <div>\n",
              "<style scoped>\n",
              "    .dataframe tbody tr th:only-of-type {\n",
              "        vertical-align: middle;\n",
              "    }\n",
              "\n",
              "    .dataframe tbody tr th {\n",
              "        vertical-align: top;\n",
              "    }\n",
              "\n",
              "    .dataframe thead th {\n",
              "        text-align: right;\n",
              "    }\n",
              "</style>\n",
              "<table border=\"1\" class=\"dataframe\">\n",
              "  <thead>\n",
              "    <tr style=\"text-align: right;\">\n",
              "      <th></th>\n",
              "      <th>A</th>\n",
              "      <th>B</th>\n",
              "      <th>C</th>\n",
              "      <th>D</th>\n",
              "    </tr>\n",
              "  </thead>\n",
              "  <tbody>\n",
              "    <tr>\n",
              "      <th>F1</th>\n",
              "      <td>7.66</td>\n",
              "      <td>5.26</td>\n",
              "      <td>7.41</td>\n",
              "      <td>3.51</td>\n",
              "    </tr>\n",
              "    <tr>\n",
              "      <th>F2</th>\n",
              "      <td>6.98</td>\n",
              "      <td>5.44</td>\n",
              "      <td>7.33</td>\n",
              "      <td>2.91</td>\n",
              "    </tr>\n",
              "    <tr>\n",
              "      <th>F3</th>\n",
              "      <td>7.80</td>\n",
              "      <td>5.80</td>\n",
              "      <td>7.04</td>\n",
              "      <td>3.66</td>\n",
              "    </tr>\n",
              "  </tbody>\n",
              "</table>\n",
              "</div>\n",
              "    <div class=\"colab-df-buttons\">\n",
              "\n",
              "  <div class=\"colab-df-container\">\n",
              "    <button class=\"colab-df-convert\" onclick=\"convertToInteractive('df-7e9af5d6-16a2-442a-94eb-7f838415c5a9')\"\n",
              "            title=\"Convert this dataframe to an interactive table.\"\n",
              "            style=\"display:none;\">\n",
              "\n",
              "  <svg xmlns=\"http://www.w3.org/2000/svg\" height=\"24px\" viewBox=\"0 -960 960 960\">\n",
              "    <path d=\"M120-120v-720h720v720H120Zm60-500h600v-160H180v160Zm220 220h160v-160H400v160Zm0 220h160v-160H400v160ZM180-400h160v-160H180v160Zm440 0h160v-160H620v160ZM180-180h160v-160H180v160Zm440 0h160v-160H620v160Z\"/>\n",
              "  </svg>\n",
              "    </button>\n",
              "\n",
              "  <style>\n",
              "    .colab-df-container {\n",
              "      display:flex;\n",
              "      gap: 12px;\n",
              "    }\n",
              "\n",
              "    .colab-df-convert {\n",
              "      background-color: #E8F0FE;\n",
              "      border: none;\n",
              "      border-radius: 50%;\n",
              "      cursor: pointer;\n",
              "      display: none;\n",
              "      fill: #1967D2;\n",
              "      height: 32px;\n",
              "      padding: 0 0 0 0;\n",
              "      width: 32px;\n",
              "    }\n",
              "\n",
              "    .colab-df-convert:hover {\n",
              "      background-color: #E2EBFA;\n",
              "      box-shadow: 0px 1px 2px rgba(60, 64, 67, 0.3), 0px 1px 3px 1px rgba(60, 64, 67, 0.15);\n",
              "      fill: #174EA6;\n",
              "    }\n",
              "\n",
              "    .colab-df-buttons div {\n",
              "      margin-bottom: 4px;\n",
              "    }\n",
              "\n",
              "    [theme=dark] .colab-df-convert {\n",
              "      background-color: #3B4455;\n",
              "      fill: #D2E3FC;\n",
              "    }\n",
              "\n",
              "    [theme=dark] .colab-df-convert:hover {\n",
              "      background-color: #434B5C;\n",
              "      box-shadow: 0px 1px 3px 1px rgba(0, 0, 0, 0.15);\n",
              "      filter: drop-shadow(0px 1px 2px rgba(0, 0, 0, 0.3));\n",
              "      fill: #FFFFFF;\n",
              "    }\n",
              "  </style>\n",
              "\n",
              "    <script>\n",
              "      const buttonEl =\n",
              "        document.querySelector('#df-7e9af5d6-16a2-442a-94eb-7f838415c5a9 button.colab-df-convert');\n",
              "      buttonEl.style.display =\n",
              "        google.colab.kernel.accessAllowed ? 'block' : 'none';\n",
              "\n",
              "      async function convertToInteractive(key) {\n",
              "        const element = document.querySelector('#df-7e9af5d6-16a2-442a-94eb-7f838415c5a9');\n",
              "        const dataTable =\n",
              "          await google.colab.kernel.invokeFunction('convertToInteractive',\n",
              "                                                    [key], {});\n",
              "        if (!dataTable) return;\n",
              "\n",
              "        const docLinkHtml = 'Like what you see? Visit the ' +\n",
              "          '<a target=\"_blank\" href=https://colab.research.google.com/notebooks/data_table.ipynb>data table notebook</a>'\n",
              "          + ' to learn more about interactive tables.';\n",
              "        element.innerHTML = '';\n",
              "        dataTable['output_type'] = 'display_data';\n",
              "        await google.colab.output.renderOutput(dataTable, element);\n",
              "        const docLink = document.createElement('div');\n",
              "        docLink.innerHTML = docLinkHtml;\n",
              "        element.appendChild(docLink);\n",
              "      }\n",
              "    </script>\n",
              "  </div>\n",
              "\n",
              "\n",
              "<div id=\"df-f1e68b6c-3eeb-4346-9d3c-e0d75cf1545f\">\n",
              "  <button class=\"colab-df-quickchart\" onclick=\"quickchart('df-f1e68b6c-3eeb-4346-9d3c-e0d75cf1545f')\"\n",
              "            title=\"Suggest charts\"\n",
              "            style=\"display:none;\">\n",
              "\n",
              "<svg xmlns=\"http://www.w3.org/2000/svg\" height=\"24px\"viewBox=\"0 0 24 24\"\n",
              "     width=\"24px\">\n",
              "    <g>\n",
              "        <path d=\"M19 3H5c-1.1 0-2 .9-2 2v14c0 1.1.9 2 2 2h14c1.1 0 2-.9 2-2V5c0-1.1-.9-2-2-2zM9 17H7v-7h2v7zm4 0h-2V7h2v10zm4 0h-2v-4h2v4z\"/>\n",
              "    </g>\n",
              "</svg>\n",
              "  </button>\n",
              "\n",
              "<style>\n",
              "  .colab-df-quickchart {\n",
              "      --bg-color: #E8F0FE;\n",
              "      --fill-color: #1967D2;\n",
              "      --hover-bg-color: #E2EBFA;\n",
              "      --hover-fill-color: #174EA6;\n",
              "      --disabled-fill-color: #AAA;\n",
              "      --disabled-bg-color: #DDD;\n",
              "  }\n",
              "\n",
              "  [theme=dark] .colab-df-quickchart {\n",
              "      --bg-color: #3B4455;\n",
              "      --fill-color: #D2E3FC;\n",
              "      --hover-bg-color: #434B5C;\n",
              "      --hover-fill-color: #FFFFFF;\n",
              "      --disabled-bg-color: #3B4455;\n",
              "      --disabled-fill-color: #666;\n",
              "  }\n",
              "\n",
              "  .colab-df-quickchart {\n",
              "    background-color: var(--bg-color);\n",
              "    border: none;\n",
              "    border-radius: 50%;\n",
              "    cursor: pointer;\n",
              "    display: none;\n",
              "    fill: var(--fill-color);\n",
              "    height: 32px;\n",
              "    padding: 0;\n",
              "    width: 32px;\n",
              "  }\n",
              "\n",
              "  .colab-df-quickchart:hover {\n",
              "    background-color: var(--hover-bg-color);\n",
              "    box-shadow: 0 1px 2px rgba(60, 64, 67, 0.3), 0 1px 3px 1px rgba(60, 64, 67, 0.15);\n",
              "    fill: var(--button-hover-fill-color);\n",
              "  }\n",
              "\n",
              "  .colab-df-quickchart-complete:disabled,\n",
              "  .colab-df-quickchart-complete:disabled:hover {\n",
              "    background-color: var(--disabled-bg-color);\n",
              "    fill: var(--disabled-fill-color);\n",
              "    box-shadow: none;\n",
              "  }\n",
              "\n",
              "  .colab-df-spinner {\n",
              "    border: 2px solid var(--fill-color);\n",
              "    border-color: transparent;\n",
              "    border-bottom-color: var(--fill-color);\n",
              "    animation:\n",
              "      spin 1s steps(1) infinite;\n",
              "  }\n",
              "\n",
              "  @keyframes spin {\n",
              "    0% {\n",
              "      border-color: transparent;\n",
              "      border-bottom-color: var(--fill-color);\n",
              "      border-left-color: var(--fill-color);\n",
              "    }\n",
              "    20% {\n",
              "      border-color: transparent;\n",
              "      border-left-color: var(--fill-color);\n",
              "      border-top-color: var(--fill-color);\n",
              "    }\n",
              "    30% {\n",
              "      border-color: transparent;\n",
              "      border-left-color: var(--fill-color);\n",
              "      border-top-color: var(--fill-color);\n",
              "      border-right-color: var(--fill-color);\n",
              "    }\n",
              "    40% {\n",
              "      border-color: transparent;\n",
              "      border-right-color: var(--fill-color);\n",
              "      border-top-color: var(--fill-color);\n",
              "    }\n",
              "    60% {\n",
              "      border-color: transparent;\n",
              "      border-right-color: var(--fill-color);\n",
              "    }\n",
              "    80% {\n",
              "      border-color: transparent;\n",
              "      border-right-color: var(--fill-color);\n",
              "      border-bottom-color: var(--fill-color);\n",
              "    }\n",
              "    90% {\n",
              "      border-color: transparent;\n",
              "      border-bottom-color: var(--fill-color);\n",
              "    }\n",
              "  }\n",
              "</style>\n",
              "\n",
              "  <script>\n",
              "    async function quickchart(key) {\n",
              "      const quickchartButtonEl =\n",
              "        document.querySelector('#' + key + ' button');\n",
              "      quickchartButtonEl.disabled = true;  // To prevent multiple clicks.\n",
              "      quickchartButtonEl.classList.add('colab-df-spinner');\n",
              "      try {\n",
              "        const charts = await google.colab.kernel.invokeFunction(\n",
              "            'suggestCharts', [key], {});\n",
              "      } catch (error) {\n",
              "        console.error('Error during call to suggestCharts:', error);\n",
              "      }\n",
              "      quickchartButtonEl.classList.remove('colab-df-spinner');\n",
              "      quickchartButtonEl.classList.add('colab-df-quickchart-complete');\n",
              "    }\n",
              "    (() => {\n",
              "      let quickchartButtonEl =\n",
              "        document.querySelector('#df-f1e68b6c-3eeb-4346-9d3c-e0d75cf1545f button');\n",
              "      quickchartButtonEl.style.display =\n",
              "        google.colab.kernel.accessAllowed ? 'block' : 'none';\n",
              "    })();\n",
              "  </script>\n",
              "</div>\n",
              "\n",
              "  <div id=\"id_a8d6234c-201c-43cc-a714-4ee9ed20100e\">\n",
              "    <style>\n",
              "      .colab-df-generate {\n",
              "        background-color: #E8F0FE;\n",
              "        border: none;\n",
              "        border-radius: 50%;\n",
              "        cursor: pointer;\n",
              "        display: none;\n",
              "        fill: #1967D2;\n",
              "        height: 32px;\n",
              "        padding: 0 0 0 0;\n",
              "        width: 32px;\n",
              "      }\n",
              "\n",
              "      .colab-df-generate:hover {\n",
              "        background-color: #E2EBFA;\n",
              "        box-shadow: 0px 1px 2px rgba(60, 64, 67, 0.3), 0px 1px 3px 1px rgba(60, 64, 67, 0.15);\n",
              "        fill: #174EA6;\n",
              "      }\n",
              "\n",
              "      [theme=dark] .colab-df-generate {\n",
              "        background-color: #3B4455;\n",
              "        fill: #D2E3FC;\n",
              "      }\n",
              "\n",
              "      [theme=dark] .colab-df-generate:hover {\n",
              "        background-color: #434B5C;\n",
              "        box-shadow: 0px 1px 3px 1px rgba(0, 0, 0, 0.15);\n",
              "        filter: drop-shadow(0px 1px 2px rgba(0, 0, 0, 0.3));\n",
              "        fill: #FFFFFF;\n",
              "      }\n",
              "    </style>\n",
              "    <button class=\"colab-df-generate\" onclick=\"generateWithVariable('Datos')\"\n",
              "            title=\"Generate code using this dataframe.\"\n",
              "            style=\"display:none;\">\n",
              "\n",
              "  <svg xmlns=\"http://www.w3.org/2000/svg\" height=\"24px\"viewBox=\"0 0 24 24\"\n",
              "       width=\"24px\">\n",
              "    <path d=\"M7,19H8.4L18.45,9,17,7.55,7,17.6ZM5,21V16.75L18.45,3.32a2,2,0,0,1,2.83,0l1.4,1.43a1.91,1.91,0,0,1,.58,1.4,1.91,1.91,0,0,1-.58,1.4L9.25,21ZM18.45,9,17,7.55Zm-12,3A5.31,5.31,0,0,0,4.9,8.1,5.31,5.31,0,0,0,1,6.5,5.31,5.31,0,0,0,4.9,4.9,5.31,5.31,0,0,0,6.5,1,5.31,5.31,0,0,0,8.1,4.9,5.31,5.31,0,0,0,12,6.5,5.46,5.46,0,0,0,6.5,12Z\"/>\n",
              "  </svg>\n",
              "    </button>\n",
              "    <script>\n",
              "      (() => {\n",
              "      const buttonEl =\n",
              "        document.querySelector('#id_a8d6234c-201c-43cc-a714-4ee9ed20100e button.colab-df-generate');\n",
              "      buttonEl.style.display =\n",
              "        google.colab.kernel.accessAllowed ? 'block' : 'none';\n",
              "\n",
              "      buttonEl.onclick = () => {\n",
              "        google.colab.notebook.generateWithVariable('Datos');\n",
              "      }\n",
              "      })();\n",
              "    </script>\n",
              "  </div>\n",
              "\n",
              "    </div>\n",
              "  </div>\n"
            ],
            "application/vnd.google.colaboratory.intrinsic+json": {
              "type": "dataframe",
              "variable_name": "Datos",
              "summary": "{\n  \"name\": \"Datos\",\n  \"rows\": 3,\n  \"fields\": [\n    {\n      \"column\": \"A\",\n      \"properties\": {\n        \"dtype\": \"number\",\n        \"std\": 0.4386342439892259,\n        \"min\": 6.98,\n        \"max\": 7.8,\n        \"num_unique_values\": 3,\n        \"samples\": [\n          7.66,\n          6.98,\n          7.8\n        ],\n        \"semantic_type\": \"\",\n        \"description\": \"\"\n      }\n    },\n    {\n      \"column\": \"B\",\n      \"properties\": {\n        \"dtype\": \"number\",\n        \"std\": 0.27495454169735034,\n        \"min\": 5.26,\n        \"max\": 5.8,\n        \"num_unique_values\": 3,\n        \"samples\": [\n          5.26,\n          5.44,\n          5.8\n        ],\n        \"semantic_type\": \"\",\n        \"description\": \"\"\n      }\n    },\n    {\n      \"column\": \"C\",\n      \"properties\": {\n        \"dtype\": \"number\",\n        \"std\": 0.1946792233393179,\n        \"min\": 7.04,\n        \"max\": 7.41,\n        \"num_unique_values\": 3,\n        \"samples\": [\n          7.41,\n          7.33,\n          7.04\n        ],\n        \"semantic_type\": \"\",\n        \"description\": \"\"\n      }\n    },\n    {\n      \"column\": \"D\",\n      \"properties\": {\n        \"dtype\": \"number\",\n        \"std\": 0.39686269665968854,\n        \"min\": 2.91,\n        \"max\": 3.66,\n        \"num_unique_values\": 3,\n        \"samples\": [\n          3.51,\n          2.91,\n          3.66\n        ],\n        \"semantic_type\": \"\",\n        \"description\": \"\"\n      }\n    }\n  ]\n}"
            }
          },
          "metadata": {},
          "execution_count": 5
        }
      ]
    },
    {
      "cell_type": "markdown",
      "source": [
        "# **Paso_2. Obtener resumen de estadísticas descriptivas**"
      ],
      "metadata": {
        "id": "X_hqsU7hhnRs"
      }
    },
    {
      "cell_type": "code",
      "source": [
        "\n",
        "# Obtener resumen de estadísticas descriptivas\n",
        "summary_statistics = Datos.describe()\n",
        "\n",
        "print(summary_statistics)\n"
      ],
      "metadata": {
        "colab": {
          "base_uri": "https://localhost:8080/"
        },
        "id": "o2WjdehBcT2D",
        "outputId": "b4e38b79-1b58-4cde-9ea3-8d99ab3b03aa"
      },
      "execution_count": 6,
      "outputs": [
        {
          "output_type": "stream",
          "name": "stdout",
          "text": [
            "              A         B         C         D\n",
            "count  3.000000  3.000000  3.000000  3.000000\n",
            "mean   7.480000  5.500000  7.260000  3.360000\n",
            "std    0.438634  0.274955  0.194679  0.396863\n",
            "min    6.980000  5.260000  7.040000  2.910000\n",
            "25%    7.320000  5.350000  7.185000  3.210000\n",
            "50%    7.660000  5.440000  7.330000  3.510000\n",
            "75%    7.730000  5.620000  7.370000  3.585000\n",
            "max    7.800000  5.800000  7.410000  3.660000\n"
          ]
        }
      ]
    },
    {
      "cell_type": "markdown",
      "source": [
        "# **Paso_3. Gráfico de medias por columna**"
      ],
      "metadata": {
        "id": "cD2CyvcCh1Bb"
      }
    },
    {
      "cell_type": "code",
      "source": [
        "import pandas as pd\n",
        "import matplotlib.pyplot as plt\n",
        "\n",
        "# Calcular las medias por columna\n",
        "medias_por_columna = Datos.mean()\n",
        "\n",
        "# Crear el gráfico de barras\n",
        "plt.bar(medias_por_columna.index, medias_por_columna.values, color='skyblue')\n",
        "\n",
        "# Añadir etiquetas y título\n",
        "plt.xlabel('Empaques')\n",
        "plt.ylabel('Media')\n",
        "plt.title('Gráfico de medias por columna')\n",
        "\n",
        "# Mostrar el gráfico\n",
        "plt.show()\n"
      ],
      "metadata": {
        "colab": {
          "base_uri": "https://localhost:8080/",
          "height": 472
        },
        "id": "uSs-nsp2YMPG",
        "outputId": "f13a2d3b-ea77-40f1-caf0-4d0b28ac9a9e"
      },
      "execution_count": 8,
      "outputs": [
        {
          "output_type": "display_data",
          "data": {
            "text/plain": [
              "<Figure size 640x480 with 1 Axes>"
            ],
            "image/png": "[encoded data removed]"
          },
          "metadata": {}
        }
      ]
    },
    {
      "cell_type": "markdown",
      "source": [
        "# **Paso_4. Boxplot de los datos**"
      ],
      "metadata": {
        "id": "XeWBlJCdiCP_"
      }
    },
    {
      "cell_type": "code",
      "source": [
        "import pandas as pd\n",
        "import matplotlib.pyplot as plt\n",
        "import seaborn as sns\n",
        "\n",
        "# Visualización del boxplot\n",
        "plt.figure(figsize=(10, 6))\n",
        "sns.boxplot(data=Datos, palette='Set3')\n",
        "plt.title('Boxplot de los datos')\n",
        "plt.xlabel('Empaques')\n",
        "plt.ylabel('Valores')\n",
        "plt.show()\n"
      ],
      "metadata": {
        "colab": {
          "base_uri": "https://localhost:8080/",
          "height": 564
        },
        "id": "CylmdA4cZ3gs",
        "outputId": "9b14a262-8bc1-4914-e275-5c0873baebee"
      },
      "execution_count": 9,
      "outputs": [
        {
          "output_type": "display_data",
          "data": {
            "text/plain": [
              "<Figure size 1000x600 with 1 Axes>"
            ],
            "image/png": "[encoded data removed]"
          },
          "metadata": {}
        }
      ]
    },
    {
      "cell_type": "markdown",
      "source": [
        "# **Paso_5. Tabla Anova**"
      ],
      "metadata": {
        "id": "Hzj-qFoiiX7G"
      }
    },
    {
      "cell_type": "code",
      "source": [
        "import pandas as pd\n",
        "from statsmodels.formula.api import ols\n",
        "from statsmodels.stats.anova import anova_lm\n",
        "\n",
        "\n",
        "# Datos proporcionados\n",
        "crecimiento = [[7.66, 5.26, 7.41, 3.51],\n",
        "            [6.98, 5.44, 7.33, 2.91],\n",
        "            [7.80, 5.80, 7.04, 3.66]]\n",
        "\n",
        "columnas = ['A', 'B', 'C', 'D'] # Nombres de las columnas\n",
        "filas = ['F1', 'F2', 'F3'] # Nombres de las filas\n",
        "\n",
        "# Crear DataFrame\n",
        "Datos = pd.DataFrame(crecimiento, columns=columnas, index=filas)\n",
        "Datos\n",
        "\n",
        "# Preparar datos para ANOVA\n",
        "stacked_data = Datos.stack().reset_index()\n",
        "stacked_data = stacked_data.rename(columns={'level_0': 'Filas', 'level_1': 'Columnas', 0:'Valor'})\n",
        "\n",
        "# Aplicar ANOVA\n",
        "modelo = ols('Valor ~ C(Columnas)', data=stacked_data).fit()\n",
        "anova_resultados = anova_lm(modelo)\n",
        "\n",
        "print(anova_resultados)\n"
      ],
      "metadata": {
        "colab": {
          "base_uri": "https://localhost:8080/"
        },
        "id": "x4Sd2sqDbcxT",
        "outputId": "04682d63-6541-41c8-9572-abbe991b2d0a"
      },
      "execution_count": 10,
      "outputs": [
        {
          "output_type": "stream",
          "name": "stdout",
          "text": [
            "              df   sum_sq   mean_sq          F    PR(>F)\n",
            "C(Columnas)  3.0  32.8728  10.95760  94.584376  0.000001\n",
            "Residual     8.0   0.9268   0.11585        NaN       NaN\n"
          ]
        }
      ]
    },
    {
      "cell_type": "markdown",
      "source": [
        "# **Paso_6. Graficos de Medias con intervalos de confianza de Tukey**"
      ],
      "metadata": {
        "id": "gMetX6j-isjG"
      }
    },
    {
      "cell_type": "code",
      "source": [
        "import pandas as pd\n",
        "import matplotlib.pyplot as plt\n",
        "import seaborn as sns\n",
        "from statsmodels.stats.multicomp import pairwise_tukeyhsd\n",
        "\n",
        "\n",
        "# Datos proporcionados\n",
        "crecimiento = [[7.66, 5.26, 7.41, 3.51],\n",
        "            [6.98, 5.44, 7.33, 2.91],\n",
        "            [7.80, 5.80, 7.04, 3.66]]\n",
        "\n",
        "columnas = ['A', 'B', 'C', 'D'] # Nombres de las columnas\n",
        "filas = ['F1', 'F2', 'F3'] # Nombres de las filas\n",
        "\n",
        "# Crear DataFrame\n",
        "Datos = pd.DataFrame(crecimiento, columns=columnas, index=filas)\n",
        "Datos\n",
        "\n",
        "# Calcular las medias por columna\n",
        "medias_por_columna = Datos.mean()\n",
        "\n",
        "# Reshape de los datos para Tukey\n",
        "stacked_data = Datos.stack().reset_index()\n",
        "stacked_data = stacked_data.rename(columns={'level_0': 'Filas', 'level_1': 'Columnas', 0:'Valores'})\n",
        "\n",
        "# Realizar el test Tukey\n",
        "tukey_results = pairwise_tukeyhsd(stacked_data['Valores'], stacked_data['Columnas'])\n",
        "\n",
        "# Resumen del test Tukey\n",
        "print(tukey_results)\n",
        "\n",
        "# Visualización de las medias con intervalos de confianza\n",
        "plt.figure(figsize=(10, 6))\n",
        "sns.boxplot(x='Columnas', y='Valores', data=stacked_data, palette='Set3')\n",
        "sns.pointplot(x='Columnas', y='Valores', data=stacked_data, color='black', join=False, markers='o', ci='sd')\n",
        "plt.title('Gráfico de medias con intervalos de confianza (Tukey)')\n",
        "plt.xlabel('Tipos de Cuero')\n",
        "plt.ylabel('Valores')\n",
        "plt.show()\n"
      ],
      "metadata": {
        "colab": {
          "base_uri": "https://localhost:8080/",
          "height": 1000
        },
        "id": "LBgBgaHlZlz0",
        "outputId": "16d7b1a2-384a-4517-ae5f-7a4f9ee856da"
      },
      "execution_count": 11,
      "outputs": [
        {
          "output_type": "stream",
          "name": "stdout",
          "text": [
            "Multiple Comparison of Means - Tukey HSD, FWER=0.05\n",
            "================================================\n",
            "group1 group2 meandiff p-adj  lower upper reject\n",
            "------------------------------------------------\n",
            "     A      B    -1.98 0.0005 -2.87 -1.09   True\n",
            "     A      C    -0.22 0.8564 -1.11  0.67  False\n",
            "     A      D    -4.12    0.0 -5.01 -3.23   True\n",
            "     B      C     1.76  0.001  0.87  2.65   True\n",
            "     B      D    -2.14 0.0003 -3.03 -1.25   True\n",
            "     C      D     -3.9    0.0 -4.79 -3.01   True\n",
            "------------------------------------------------\n"
          ]
        },
        {
          "output_type": "stream",
          "name": "stderr",
          "text": [
            "<ipython-input-11-c0f3d0df54f7>:34: FutureWarning: \n",
            "\n",
            "Passing `palette` without assigning `hue` is deprecated and will be removed in v0.14.0. Assign the `x` variable to `hue` and set `legend=False` for the same effect.\n",
            "\n",
            "  sns.boxplot(x='Columnas', y='Valores', data=stacked_data, palette='Set3')\n",
            "<ipython-input-11-c0f3d0df54f7>:35: FutureWarning: \n",
            "\n",
            "The `ci` parameter is deprecated. Use `errorbar='sd'` for the same effect.\n",
            "\n",
            "  sns.pointplot(x='Columnas', y='Valores', data=stacked_data, color='black', join=False, markers='o', ci='sd')\n",
            "<ipython-input-11-c0f3d0df54f7>:35: UserWarning: \n",
            "\n",
            "The `join` parameter is deprecated and will be removed in v0.15.0. You can remove the line between points with `linestyle='none'`.\n",
            "\n",
            "  sns.pointplot(x='Columnas', y='Valores', data=stacked_data, color='black', join=False, markers='o', ci='sd')\n"
          ]
        },
        {
          "output_type": "display_data",
          "data": {
            "text/plain": [
              "<Figure size 1000x600 with 1 Axes>"
            ],
            "image/png": "[encoded data removed]"
          },
          "metadata": {}
        }
      ]
    },
    {
      "cell_type": "markdown",
      "source": [
        "# **Paso_8. Prueba de Homocedasticidad para residuos**"
      ],
      "metadata": {
        "id": "dNmqK2wZjTDb"
      }
    },
    {
      "cell_type": "code",
      "source": [
        "from scipy.stats import levene\n",
        "\n",
        "#\n",
        "# Datos proporcionados\n",
        "crecimiento = [[7.66, 5.26, 7.41, 3.51],\n",
        "            [6.98, 5.44, 7.33, 2.91],\n",
        "            [7.80, 5.80, 7.04, 3.66]]\n",
        "\n",
        "columnas = ['A', 'B', 'C', 'D'] # Nombres de las columnas\n",
        "filas = ['F1', 'F2', 'F3'] # Nombres de las filas\n",
        "\n",
        "# Crear DataFrame\n",
        "Datos = pd.DataFrame(crecimiento, columns=columnas, index=filas)\n",
        "\n",
        "\n",
        "# Convertir los datos en un formato adecuado para la prueba de Levene\n",
        "datos_para_levene = [Datos[col].values for col in Datos.columns]\n",
        "\n",
        "# Realizar la prueba de Levene\n",
        "statistic, p_value = levene(*datos_para_levene)\n",
        "\n",
        "# Imprimir los resultados\n",
        "print(\"Estadística de Levene:\", statistic)\n",
        "print(\"Valor p:\", p_value)\n",
        "\n",
        "# Interpretar el resultado\n",
        "if p_value < 0.05:\n",
        "    print(\"Se rechaza la hipótesis nula: No hay homogeneidad de varianzas.\")\n",
        "else:\n",
        "    print(\"No se puede rechazar la hipótesis nula: Hay homogeneidad de varianzas.\")\n"
      ],
      "metadata": {
        "colab": {
          "base_uri": "https://localhost:8080/"
        },
        "id": "-RR3a4sjjLbD",
        "outputId": "f0f480fe-5ff2-40f8-fad0-372a5273ba89"
      },
      "execution_count": 12,
      "outputs": [
        {
          "output_type": "stream",
          "name": "stdout",
          "text": [
            "Estadística de Levene: 0.19878328197835168\n",
            "Valor p: 0.8943359546334853\n",
            "No se puede rechazar la hipótesis nula: Hay homogeneidad de varianzas.\n"
          ]
        }
      ]
    },
    {
      "cell_type": "markdown",
      "source": [
        "# **Paso_8. Prueba Gráfica de Normalidad para residuos**"
      ],
      "metadata": {
        "id": "nr6-kQdnj5MS"
      }
    },
    {
      "cell_type": "code",
      "source": [
        "import pandas as pd\n",
        "import numpy as np\n",
        "import matplotlib.pyplot as plt\n",
        "import statsmodels.api as sm\n",
        "from scipy.stats import probplot\n",
        "\n",
        "\n",
        "# Datos proporcionados\n",
        "crecimiento = [[7.66, 5.26, 7.41, 3.51],\n",
        "            [6.98, 5.44, 7.33, 2.91],\n",
        "            [7.80, 5.80, 7.04, 3.66]]\n",
        "\n",
        "columnas = ['A', 'B', 'C', 'D'] # Nombres de las columnas\n",
        "filas = ['F1', 'F2', 'F3'] # Nombres de las filas\n",
        "\n",
        "# Crear DataFrame\n",
        "Datos = pd.DataFrame(crecimiento, columns=columnas, index=filas)\n",
        "\n",
        "\n",
        "# Convertir los datos en un formato adecuado para el análisis\n",
        "stacked_data = Datos.stack().reset_index()\n",
        "stacked_data = stacked_data.rename(columns={'level_0': 'Filas', 'level_1': 'Columnas', 0:'Valor'})\n",
        "\n",
        "# Ajustar un modelo lineal\n",
        "modelo = sm.formula.ols('Valor ~ C(Columnas)', data=stacked_data).fit()\n",
        "\n",
        "# Obtener los residuos\n",
        "residuos = modelo.resid\n",
        "\n",
        "# Gráfico de residuos\n",
        "plt.figure(figsize=(10, 6))\n",
        "plt.scatter(np.arange(len(residuos)), residuos, color='blue')\n",
        "plt.axhline(y=0, color='red', linestyle='--')\n",
        "plt.title('Gráfico de residuos')\n",
        "plt.xlabel('Índice')\n",
        "plt.ylabel('Residuos')\n",
        "plt.show()\n",
        "\n",
        "# Gráfico de probabilidad normal (QQ plot)\n",
        "plt.figure(figsize=(10, 6))\n",
        "probplot(residuos, dist=\"norm\", plot=plt)\n",
        "plt.title('QQ plot de los residuos')\n",
        "plt.xlabel('Cuantiles teóricos')\n",
        "plt.ylabel('Cuantiles de los residuos')\n",
        "plt.show()\n"
      ],
      "metadata": {
        "colab": {
          "base_uri": "https://localhost:8080/",
          "height": 1000
        },
        "id": "4z4KFP62jcHy",
        "outputId": "38b79a38-dff7-422c-dd5e-a82de1cff03c"
      },
      "execution_count": 13,
      "outputs": [
        {
          "output_type": "display_data",
          "data": {
            "text/plain": [
              "<Figure size 1000x600 with 1 Axes>"
            ],
            "image/png": "[encoded data removed]"
          },
          "metadata": {}
        },
        {
          "output_type": "display_data",
          "data": {
            "text/plain": [
              "<Figure size 1000x600 with 1 Axes>"
            ],
            "image/png": "[encoded data removed]"
          },
          "metadata": {}
        }
      ]
    },
    {
      "cell_type": "markdown",
      "source": [
        "# **Paso_9. Prueba Analítica de Normalidad para residuos**"
      ],
      "metadata": {
        "id": "t1lK60jokZ6h"
      }
    },
    {
      "cell_type": "code",
      "source": [
        "from scipy.stats import normaltest\n",
        "\n",
        "# Realizar la prueba de normalidad de los residuos\n",
        "statistic, p_value = normaltest(residuos)\n",
        "\n",
        "# Imprimir los resultados\n",
        "print(\"Estadística de la prueba de normalidad:\", statistic)\n",
        "print(\"Valor p:\", p_value)\n",
        "\n",
        "# Interpretar el resultado\n",
        "alpha = 0.05\n",
        "if p_value < alpha:\n",
        "    print(\"Se rechaza la hipótesis nula: Los residuos no siguen una distribución normal.\")\n",
        "else:\n",
        "    print(\"No se puede rechazar la hipótesis nula: Los residuos siguen una distribución normal.\")\n"
      ],
      "metadata": {
        "colab": {
          "base_uri": "https://localhost:8080/"
        },
        "id": "OOK-Rig_kGHh",
        "outputId": "0d484dc9-799b-4123-bfb5-5e0fdf518dd3"
      },
      "execution_count": 14,
      "outputs": [
        {
          "output_type": "stream",
          "name": "stdout",
          "text": [
            "Estadística de la prueba de normalidad: 1.7174557221695212\n",
            "Valor p: 0.42370074582487893\n",
            "No se puede rechazar la hipótesis nula: Los residuos siguen una distribución normal.\n"
          ]
        },
        {
          "output_type": "stream",
          "name": "stderr",
          "text": [
            "/usr/local/lib/python3.10/dist-packages/scipy/stats/_stats_py.py:1806: UserWarning: kurtosistest only valid for n>=20 ... continuing anyway, n=12\n",
            "  warnings.warn(\"kurtosistest only valid for n>=20 ... continuing \"\n"
          ]
        }
      ]
    },
    {
      "cell_type": "markdown",
      "source": [
        "##**Histograma de los datos originales**"
      ],
      "metadata": {
        "id": "15ZA3dt9mWKj"
      }
    },
    {
      "cell_type": "code",
      "source": [
        "# Gráfico de los datos originales\n",
        "plt.figure(figsize=(8, 6))\n",
        "sns.histplot(stacked_data['Valor'], kde=True, color='skyblue')\n",
        "plt.title('Histograma de los datos originales')\n",
        "plt.xlabel('Valor original')\n",
        "plt.ylabel('Frecuencia')\n",
        "plt.show()\n"
      ],
      "metadata": {
        "colab": {
          "base_uri": "https://localhost:8080/",
          "height": 564
        },
        "id": "SHzZoPvHmPC6",
        "outputId": "f038c58e-ad95-41da-b37c-54c8681b5774"
      },
      "execution_count": 15,
      "outputs": [
        {
          "output_type": "display_data",
          "data": {
            "text/plain": [
              "<Figure size 800x600 with 1 Axes>"
            ],
            "image/png": "[encoded data removed]"
          },
          "metadata": {}
        }
      ]
    },
    {
      "cell_type": "markdown",
      "source": [
        "# **Paso_10. Prueba Analítica de Normalidad para residuos transformados**\n",
        "\n",
        "+ Una forma común de transformar los datos para mejorar la normalidad es aplicar la transformación Box-Cox.\n",
        "+ Sin embargo, es importante tener en cuenta que esta transformación solo es aplicable a datos estrictamente positivos.\n",
        "\n",
        "+ Aquí te muestro cómo aplicar la transformación Box-Cox a tus datos y luego realizar la prueba de normalidad sobre los datos transformados:\n",
        "\n",
        "+ Este código calculará la transformación Box-Cox de los datos y luego realizará la prueba de normalidad sobre los datos transformados.\n",
        "+ Si el valor p de la prueba de normalidad transformada es menor que 0.05, se rechaza la hipótesis nula de que los datos transformados son normales.\n",
        "+ De lo contrario, si el valor p es mayor o igual a 0.05, se asume que los datos transformados siguen una distribución normal."
      ],
      "metadata": {
        "id": "SG3loK0DktC_"
      }
    },
    {
      "cell_type": "code",
      "source": [
        "from scipy.stats import boxcox\n",
        "from scipy.stats import normaltest\n",
        "\n",
        "# Aplicar la transformación Box-Cox a los datos\n",
        "datos_transformados, lambda_value = boxcox(stacked_data['Valor'])\n",
        "\n",
        "# Realizar la prueba de normalidad sobre los datos transformados\n",
        "statistic_transformed, p_value_transformed = normaltest(datos_transformados)\n",
        "\n",
        "# Imprimir los resultados\n",
        "print(\"Estadística de la prueba de normalidad (transformada):\", statistic_transformed)\n",
        "print(\"Valor p (transformado):\", p_value_transformed)\n",
        "\n",
        "# Interpretar el resultado\n",
        "alpha = 0.05\n",
        "if p_value_transformed < alpha:\n",
        "    print(\"Se rechaza la hipótesis nula: Los datos transformados no siguen una distribución normal.\")\n",
        "else:\n",
        "    print(\"No se puede rechazar la hipótesis nula: Los datos transformados siguen una distribución normal.\")\n"
      ],
      "metadata": {
        "colab": {
          "base_uri": "https://localhost:8080/"
        },
        "id": "k5rKtk_Fktq6",
        "outputId": "275993ce-3613-40d9-b19a-782d2a102810"
      },
      "execution_count": 16,
      "outputs": [
        {
          "output_type": "stream",
          "name": "stdout",
          "text": [
            "Estadística de la prueba de normalidad (transformada): 3.000987718564232\n",
            "Valor p (transformado): 0.2230199924536289\n",
            "No se puede rechazar la hipótesis nula: Los datos transformados siguen una distribución normal.\n"
          ]
        },
        {
          "output_type": "stream",
          "name": "stderr",
          "text": [
            "/usr/local/lib/python3.10/dist-packages/scipy/stats/_stats_py.py:1806: UserWarning: kurtosistest only valid for n>=20 ... continuing anyway, n=12\n",
            "  warnings.warn(\"kurtosistest only valid for n>=20 ... continuing \"\n"
          ]
        }
      ]
    },
    {
      "cell_type": "markdown",
      "source": [
        "**Este código creará un histograma de los datos transformados utilizando Seaborn, lo que te permitirá visualizar cómo se distribuyen los datos después de aplicar la transformación Box-Cox.**"
      ],
      "metadata": {
        "id": "3mkq4Hm4l4TZ"
      }
    },
    {
      "cell_type": "code",
      "source": [
        "import matplotlib.pyplot as plt\n",
        "import seaborn as sns\n",
        "\n",
        "# Crear DataFrame con los datos transformados\n",
        "transformed_data = pd.DataFrame({'Valor': datos_transformados})\n",
        "\n",
        "# Gráfico de los datos transformados\n",
        "plt.figure(figsize=(8, 6))\n",
        "sns.histplot(transformed_data['Valor'], kde=True, color='skyblue')\n",
        "plt.title('Histograma de los datos transformados (Box-Cox)')\n",
        "plt.xlabel('Valor transformado')\n",
        "plt.ylabel('Frecuencia')\n",
        "plt.show()\n"
      ],
      "metadata": {
        "colab": {
          "base_uri": "https://localhost:8080/",
          "height": 564
        },
        "id": "6vW12AnAk5BH",
        "outputId": "1b3d9b7f-84a1-4496-b9fe-00d38467d87c"
      },
      "execution_count": 17,
      "outputs": [
        {
          "output_type": "display_data",
          "data": {
            "text/plain": [
              "<Figure size 800x600 with 1 Axes>"
            ],
            "image/png": "[encoded data removed]"
          },
          "metadata": {}
        }
      ]
    },
    {
      "cell_type": "markdown",
      "source": [
        "# **Conocimiento. La transformación Box-Cox**\n",
        "\n",
        "+ La transformación Box-Cox es una técnica utilizada para estabilizar la varianza y hacer que los datos se ajusten mejor a una distribución normal.\n",
        "+ Fue propuesta por los estadísticos George Box y Sir David Roxbee Cox.\n",
        "\n",
        "+ La transformación Box-Cox está definida por la fórmula:\n",
        "\n",
        "\n",
        "$$y^{(\\lambda)} = \\frac{y^{\\lambda}-1}{{\\lambda}}, \\quad si \\quad {\\lambda}\\neq 0 \\quad ó \\quad y^{(\\lambda)} =log(y), \\quad si \\quad {\\lambda}= 0$$\n",
        "\n",
        "Donde:\n",
        "+ $y$ es la variable original.\n",
        "+ $λ$ es el parámetro de transformación, que puede tomar cualquier valor real.\n",
        "\n",
        "+ La transformación Box-Cox se utiliza para encontrar el valor de λ que maximiza la verosimilitud de que los datos se ajusten a una distribución normal.\n",
        "\n",
        "+ Esto se hace probando diferentes valores de λ y seleccionando el que maximiza la similitud con una distribución normal. Una vez que se determina el valor óptimo de λ, se aplica la transformación a los datos originales.\n",
        "\n",
        "+ Es importante tener en cuenta que la transformación Box-Cox solo es aplicable a datos estrictamente positivos, ya que implica tomar el logaritmo de los datos.\n",
        "+ Si los datos contienen ceros o valores negativos, se deben aplicar otras técnicas de transformación.\n"
      ],
      "metadata": {
        "id": "nD596-qAjhqD"
      }
    },
    {
      "cell_type": "markdown",
      "source": [
        "# **Paso_11. Prueba de Independencia**\n",
        "\n",
        "+ Para verificar la independencia de los residuos, una forma común es realizar el análisis de los residuos para detectar cualquier patrón o estructura sistemática que pueda indicar dependencia entre ellos.\n",
        "+ Esto se puede hacer visualmente mediante un gráfico de autocorrelación o un gráfico de residuos contra las variables explicativas.\n",
        "\n",
        "+ Aquí te muestro cómo puedes hacer ambas:\n",
        "\n",
        "## **a. Gráfico de Autocorrelación de los Residuos:**"
      ],
      "metadata": {
        "id": "b5TmCY-GeA0L"
      }
    },
    {
      "cell_type": "code",
      "source": [
        "from statsmodels.graphics.tsaplots import plot_acf\n",
        "\n",
        "# Gráfico de autocorrelación de los residuos\n",
        "plot_acf(residuos, lags=10)\n",
        "plt.title('Gráfico de Autocorrelación de los Residuos')\n",
        "plt.xlabel('Lag')\n",
        "plt.ylabel('Autocorrelación')\n",
        "plt.show()\n"
      ],
      "metadata": {
        "colab": {
          "base_uri": "https://localhost:8080/",
          "height": 472
        },
        "id": "-u2kyjJkZWl1",
        "outputId": "b760be84-0b5c-4f7c-bf0e-f59738282b3a"
      },
      "execution_count": 20,
      "outputs": [
        {
          "output_type": "display_data",
          "data": {
            "text/plain": [
              "<Figure size 640x480 with 1 Axes>"
            ],
            "image/png": "[encoded data removed]"
          },
          "metadata": {}
        }
      ]
    },
    {
      "cell_type": "markdown",
      "source": [
        "**Si hay dependencia entre los residuos, verás autocorrelaciones significativas en el gráfico.**"
      ],
      "metadata": {
        "id": "-bJ6haZifDvI"
      }
    },
    {
      "cell_type": "markdown",
      "source": [
        "## **b. Gráfico de Residuos contra las Variables Explicativas:**"
      ],
      "metadata": {
        "id": "wo6GcVDnfVGO"
      }
    },
    {
      "cell_type": "code",
      "source": [
        "print(residuos)"
      ],
      "metadata": {
        "colab": {
          "base_uri": "https://localhost:8080/"
        },
        "id": "_lFJFACmaXBb",
        "outputId": "996ddc6b-45b2-442b-8e26-e8810577efa6"
      },
      "execution_count": 21,
      "outputs": [
        {
          "output_type": "stream",
          "name": "stdout",
          "text": [
            "0     0.18\n",
            "1    -0.24\n",
            "2     0.15\n",
            "3     0.15\n",
            "4    -0.50\n",
            "5    -0.06\n",
            "6     0.07\n",
            "7    -0.45\n",
            "8     0.32\n",
            "9     0.30\n",
            "10   -0.22\n",
            "11    0.30\n",
            "dtype: float64\n"
          ]
        }
      ]
    },
    {
      "cell_type": "markdown",
      "source": [
        "## **c. Los datos en Python y definimos el DataFrame: Ingresamos los datos como columnas**"
      ],
      "metadata": {
        "id": "RyPQk1IIfhjN"
      }
    },
    {
      "cell_type": "code",
      "source": [
        "## **c. Los datos en Python y definimos el DataFrame: Ingresamos los datos como columnas**\n",
        "import pandas as pd\n",
        "\n",
        "Empaques = (['A']*3+['B']*3+['C']*3+['D']*3)\n",
        "Crecimiento = [7.66,\t6.98,\t7.80, 5.26,\t5.44,\t5.80, 7.41,\t7.33,\t7.04, 3.51,\t2.91,\t3.66]\n",
        "\n",
        "Datos  = pd.DataFrame({'Empaques': Empaques, 'Crecimiento': Crecimiento})\n",
        "Datos"
      ],
      "metadata": {
        "colab": {
          "base_uri": "https://localhost:8080/",
          "height": 426
        },
        "id": "BgOrFwjNcX0W",
        "outputId": "fb4dbf9c-6a87-48ba-b4af-b3ed6ae0b8c3"
      },
      "execution_count": 23,
      "outputs": [
        {
          "output_type": "execute_result",
          "data": {
            "text/plain": [
              "   Empaques  Crecimiento\n",
              "0         A         7.66\n",
              "1         A         6.98\n",
              "2         A         7.80\n",
              "3         B         5.26\n",
              "4         B         5.44\n",
              "5         B         5.80\n",
              "6         C         7.41\n",
              "7         C         7.33\n",
              "8         C         7.04\n",
              "9         D         3.51\n",
              "10        D         2.91\n",
              "11        D         3.66"
            ],
            "text/html": [
              "\n",
              "  <div id=\"df-901b11bf-83d2-49b3-973a-163d02ac822b\" class=\"colab-df-container\">\n",
              "    <div>\n",
              "<style scoped>\n",
              "    .dataframe tbody tr th:only-of-type {\n",
              "        vertical-align: middle;\n",
              "    }\n",
              "\n",
              "    .dataframe tbody tr th {\n",
              "        vertical-align: top;\n",
              "    }\n",
              "\n",
              "    .dataframe thead th {\n",
              "        text-align: right;\n",
              "    }\n",
              "</style>\n",
              "<table border=\"1\" class=\"dataframe\">\n",
              "  <thead>\n",
              "    <tr style=\"text-align: right;\">\n",
              "      <th></th>\n",
              "      <th>Empaques</th>\n",
              "      <th>Crecimiento</th>\n",
              "    </tr>\n",
              "  </thead>\n",
              "  <tbody>\n",
              "    <tr>\n",
              "      <th>0</th>\n",
              "      <td>A</td>\n",
              "      <td>7.66</td>\n",
              "    </tr>\n",
              "    <tr>\n",
              "      <th>1</th>\n",
              "      <td>A</td>\n",
              "      <td>6.98</td>\n",
              "    </tr>\n",
              "    <tr>\n",
              "      <th>2</th>\n",
              "      <td>A</td>\n",
              "      <td>7.80</td>\n",
              "    </tr>\n",
              "    <tr>\n",
              "      <th>3</th>\n",
              "      <td>B</td>\n",
              "      <td>5.26</td>\n",
              "    </tr>\n",
              "    <tr>\n",
              "      <th>4</th>\n",
              "      <td>B</td>\n",
              "      <td>5.44</td>\n",
              "    </tr>\n",
              "    <tr>\n",
              "      <th>5</th>\n",
              "      <td>B</td>\n",
              "      <td>5.80</td>\n",
              "    </tr>\n",
              "    <tr>\n",
              "      <th>6</th>\n",
              "      <td>C</td>\n",
              "      <td>7.41</td>\n",
              "    </tr>\n",
              "    <tr>\n",
              "      <th>7</th>\n",
              "      <td>C</td>\n",
              "      <td>7.33</td>\n",
              "    </tr>\n",
              "    <tr>\n",
              "      <th>8</th>\n",
              "      <td>C</td>\n",
              "      <td>7.04</td>\n",
              "    </tr>\n",
              "    <tr>\n",
              "      <th>9</th>\n",
              "      <td>D</td>\n",
              "      <td>3.51</td>\n",
              "    </tr>\n",
              "    <tr>\n",
              "      <th>10</th>\n",
              "      <td>D</td>\n",
              "      <td>2.91</td>\n",
              "    </tr>\n",
              "    <tr>\n",
              "      <th>11</th>\n",
              "      <td>D</td>\n",
              "      <td>3.66</td>\n",
              "    </tr>\n",
              "  </tbody>\n",
              "</table>\n",
              "</div>\n",
              "    <div class=\"colab-df-buttons\">\n",
              "\n",
              "  <div class=\"colab-df-container\">\n",
              "    <button class=\"colab-df-convert\" onclick=\"convertToInteractive('df-901b11bf-83d2-49b3-973a-163d02ac822b')\"\n",
              "            title=\"Convert this dataframe to an interactive table.\"\n",
              "            style=\"display:none;\">\n",
              "\n",
              "  <svg xmlns=\"http://www.w3.org/2000/svg\" height=\"24px\" viewBox=\"0 -960 960 960\">\n",
              "    <path d=\"M120-120v-720h720v720H120Zm60-500h600v-160H180v160Zm220 220h160v-160H400v160Zm0 220h160v-160H400v160ZM180-400h160v-160H180v160Zm440 0h160v-160H620v160ZM180-180h160v-160H180v160Zm440 0h160v-160H620v160Z\"/>\n",
              "  </svg>\n",
              "    </button>\n",
              "\n",
              "  <style>\n",
              "    .colab-df-container {\n",
              "      display:flex;\n",
              "      gap: 12px;\n",
              "    }\n",
              "\n",
              "    .colab-df-convert {\n",
              "      background-color: #E8F0FE;\n",
              "      border: none;\n",
              "      border-radius: 50%;\n",
              "      cursor: pointer;\n",
              "      display: none;\n",
              "      fill: #1967D2;\n",
              "      height: 32px;\n",
              "      padding: 0 0 0 0;\n",
              "      width: 32px;\n",
              "    }\n",
              "\n",
              "    .colab-df-convert:hover {\n",
              "      background-color: #E2EBFA;\n",
              "      box-shadow: 0px 1px 2px rgba(60, 64, 67, 0.3), 0px 1px 3px 1px rgba(60, 64, 67, 0.15);\n",
              "      fill: #174EA6;\n",
              "    }\n",
              "\n",
              "    .colab-df-buttons div {\n",
              "      margin-bottom: 4px;\n",
              "    }\n",
              "\n",
              "    [theme=dark] .colab-df-convert {\n",
              "      background-color: #3B4455;\n",
              "      fill: #D2E3FC;\n",
              "    }\n",
              "\n",
              "    [theme=dark] .colab-df-convert:hover {\n",
              "      background-color: #434B5C;\n",
              "      box-shadow: 0px 1px 3px 1px rgba(0, 0, 0, 0.15);\n",
              "      filter: drop-shadow(0px 1px 2px rgba(0, 0, 0, 0.3));\n",
              "      fill: #FFFFFF;\n",
              "    }\n",
              "  </style>\n",
              "\n",
              "    <script>\n",
              "      const buttonEl =\n",
              "        document.querySelector('#df-901b11bf-83d2-49b3-973a-163d02ac822b button.colab-df-convert');\n",
              "      buttonEl.style.display =\n",
              "        google.colab.kernel.accessAllowed ? 'block' : 'none';\n",
              "\n",
              "      async function convertToInteractive(key) {\n",
              "        const element = document.querySelector('#df-901b11bf-83d2-49b3-973a-163d02ac822b');\n",
              "        const dataTable =\n",
              "          await google.colab.kernel.invokeFunction('convertToInteractive',\n",
              "                                                    [key], {});\n",
              "        if (!dataTable) return;\n",
              "\n",
              "        const docLinkHtml = 'Like what you see? Visit the ' +\n",
              "          '<a target=\"_blank\" href=https://colab.research.google.com/notebooks/data_table.ipynb>data table notebook</a>'\n",
              "          + ' to learn more about interactive tables.';\n",
              "        element.innerHTML = '';\n",
              "        dataTable['output_type'] = 'display_data';\n",
              "        await google.colab.output.renderOutput(dataTable, element);\n",
              "        const docLink = document.createElement('div');\n",
              "        docLink.innerHTML = docLinkHtml;\n",
              "        element.appendChild(docLink);\n",
              "      }\n",
              "    </script>\n",
              "  </div>\n",
              "\n",
              "\n",
              "<div id=\"df-9354ecd9-24c0-424b-bbf2-fd6388f37d0a\">\n",
              "  <button class=\"colab-df-quickchart\" onclick=\"quickchart('df-9354ecd9-24c0-424b-bbf2-fd6388f37d0a')\"\n",
              "            title=\"Suggest charts\"\n",
              "            style=\"display:none;\">\n",
              "\n",
              "<svg xmlns=\"http://www.w3.org/2000/svg\" height=\"24px\"viewBox=\"0 0 24 24\"\n",
              "     width=\"24px\">\n",
              "    <g>\n",
              "        <path d=\"M19 3H5c-1.1 0-2 .9-2 2v14c0 1.1.9 2 2 2h14c1.1 0 2-.9 2-2V5c0-1.1-.9-2-2-2zM9 17H7v-7h2v7zm4 0h-2V7h2v10zm4 0h-2v-4h2v4z\"/>\n",
              "    </g>\n",
              "</svg>\n",
              "  </button>\n",
              "\n",
              "<style>\n",
              "  .colab-df-quickchart {\n",
              "      --bg-color: #E8F0FE;\n",
              "      --fill-color: #1967D2;\n",
              "      --hover-bg-color: #E2EBFA;\n",
              "      --hover-fill-color: #174EA6;\n",
              "      --disabled-fill-color: #AAA;\n",
              "      --disabled-bg-color: #DDD;\n",
              "  }\n",
              "\n",
              "  [theme=dark] .colab-df-quickchart {\n",
              "      --bg-color: #3B4455;\n",
              "      --fill-color: #D2E3FC;\n",
              "      --hover-bg-color: #434B5C;\n",
              "      --hover-fill-color: #FFFFFF;\n",
              "      --disabled-bg-color: #3B4455;\n",
              "      --disabled-fill-color: #666;\n",
              "  }\n",
              "\n",
              "  .colab-df-quickchart {\n",
              "    background-color: var(--bg-color);\n",
              "    border: none;\n",
              "    border-radius: 50%;\n",
              "    cursor: pointer;\n",
              "    display: none;\n",
              "    fill: var(--fill-color);\n",
              "    height: 32px;\n",
              "    padding: 0;\n",
              "    width: 32px;\n",
              "  }\n",
              "\n",
              "  .colab-df-quickchart:hover {\n",
              "    background-color: var(--hover-bg-color);\n",
              "    box-shadow: 0 1px 2px rgba(60, 64, 67, 0.3), 0 1px 3px 1px rgba(60, 64, 67, 0.15);\n",
              "    fill: var(--button-hover-fill-color);\n",
              "  }\n",
              "\n",
              "  .colab-df-quickchart-complete:disabled,\n",
              "  .colab-df-quickchart-complete:disabled:hover {\n",
              "    background-color: var(--disabled-bg-color);\n",
              "    fill: var(--disabled-fill-color);\n",
              "    box-shadow: none;\n",
              "  }\n",
              "\n",
              "  .colab-df-spinner {\n",
              "    border: 2px solid var(--fill-color);\n",
              "    border-color: transparent;\n",
              "    border-bottom-color: var(--fill-color);\n",
              "    animation:\n",
              "      spin 1s steps(1) infinite;\n",
              "  }\n",
              "\n",
              "  @keyframes spin {\n",
              "    0% {\n",
              "      border-color: transparent;\n",
              "      border-bottom-color: var(--fill-color);\n",
              "      border-left-color: var(--fill-color);\n",
              "    }\n",
              "    20% {\n",
              "      border-color: transparent;\n",
              "      border-left-color: var(--fill-color);\n",
              "      border-top-color: var(--fill-color);\n",
              "    }\n",
              "    30% {\n",
              "      border-color: transparent;\n",
              "      border-left-color: var(--fill-color);\n",
              "      border-top-color: var(--fill-color);\n",
              "      border-right-color: var(--fill-color);\n",
              "    }\n",
              "    40% {\n",
              "      border-color: transparent;\n",
              "      border-right-color: var(--fill-color);\n",
              "      border-top-color: var(--fill-color);\n",
              "    }\n",
              "    60% {\n",
              "      border-color: transparent;\n",
              "      border-right-color: var(--fill-color);\n",
              "    }\n",
              "    80% {\n",
              "      border-color: transparent;\n",
              "      border-right-color: var(--fill-color);\n",
              "      border-bottom-color: var(--fill-color);\n",
              "    }\n",
              "    90% {\n",
              "      border-color: transparent;\n",
              "      border-bottom-color: var(--fill-color);\n",
              "    }\n",
              "  }\n",
              "</style>\n",
              "\n",
              "  <script>\n",
              "    async function quickchart(key) {\n",
              "      const quickchartButtonEl =\n",
              "        document.querySelector('#' + key + ' button');\n",
              "      quickchartButtonEl.disabled = true;  // To prevent multiple clicks.\n",
              "      quickchartButtonEl.classList.add('colab-df-spinner');\n",
              "      try {\n",
              "        const charts = await google.colab.kernel.invokeFunction(\n",
              "            'suggestCharts', [key], {});\n",
              "      } catch (error) {\n",
              "        console.error('Error during call to suggestCharts:', error);\n",
              "      }\n",
              "      quickchartButtonEl.classList.remove('colab-df-spinner');\n",
              "      quickchartButtonEl.classList.add('colab-df-quickchart-complete');\n",
              "    }\n",
              "    (() => {\n",
              "      let quickchartButtonEl =\n",
              "        document.querySelector('#df-9354ecd9-24c0-424b-bbf2-fd6388f37d0a button');\n",
              "      quickchartButtonEl.style.display =\n",
              "        google.colab.kernel.accessAllowed ? 'block' : 'none';\n",
              "    })();\n",
              "  </script>\n",
              "</div>\n",
              "\n",
              "  <div id=\"id_c723912d-af26-4acb-a10e-a7473bebb44a\">\n",
              "    <style>\n",
              "      .colab-df-generate {\n",
              "        background-color: #E8F0FE;\n",
              "        border: none;\n",
              "        border-radius: 50%;\n",
              "        cursor: pointer;\n",
              "        display: none;\n",
              "        fill: #1967D2;\n",
              "        height: 32px;\n",
              "        padding: 0 0 0 0;\n",
              "        width: 32px;\n",
              "      }\n",
              "\n",
              "      .colab-df-generate:hover {\n",
              "        background-color: #E2EBFA;\n",
              "        box-shadow: 0px 1px 2px rgba(60, 64, 67, 0.3), 0px 1px 3px 1px rgba(60, 64, 67, 0.15);\n",
              "        fill: #174EA6;\n",
              "      }\n",
              "\n",
              "      [theme=dark] .colab-df-generate {\n",
              "        background-color: #3B4455;\n",
              "        fill: #D2E3FC;\n",
              "      }\n",
              "\n",
              "      [theme=dark] .colab-df-generate:hover {\n",
              "        background-color: #434B5C;\n",
              "        box-shadow: 0px 1px 3px 1px rgba(0, 0, 0, 0.15);\n",
              "        filter: drop-shadow(0px 1px 2px rgba(0, 0, 0, 0.3));\n",
              "        fill: #FFFFFF;\n",
              "      }\n",
              "    </style>\n",
              "    <button class=\"colab-df-generate\" onclick=\"generateWithVariable('Datos')\"\n",
              "            title=\"Generate code using this dataframe.\"\n",
              "            style=\"display:none;\">\n",
              "\n",
              "  <svg xmlns=\"http://www.w3.org/2000/svg\" height=\"24px\"viewBox=\"0 0 24 24\"\n",
              "       width=\"24px\">\n",
              "    <path d=\"M7,19H8.4L18.45,9,17,7.55,7,17.6ZM5,21V16.75L18.45,3.32a2,2,0,0,1,2.83,0l1.4,1.43a1.91,1.91,0,0,1,.58,1.4,1.91,1.91,0,0,1-.58,1.4L9.25,21ZM18.45,9,17,7.55Zm-12,3A5.31,5.31,0,0,0,4.9,8.1,5.31,5.31,0,0,0,1,6.5,5.31,5.31,0,0,0,4.9,4.9,5.31,5.31,0,0,0,6.5,1,5.31,5.31,0,0,0,8.1,4.9,5.31,5.31,0,0,0,12,6.5,5.46,5.46,0,0,0,6.5,12Z\"/>\n",
              "  </svg>\n",
              "    </button>\n",
              "    <script>\n",
              "      (() => {\n",
              "      const buttonEl =\n",
              "        document.querySelector('#id_c723912d-af26-4acb-a10e-a7473bebb44a button.colab-df-generate');\n",
              "      buttonEl.style.display =\n",
              "        google.colab.kernel.accessAllowed ? 'block' : 'none';\n",
              "\n",
              "      buttonEl.onclick = () => {\n",
              "        google.colab.notebook.generateWithVariable('Datos');\n",
              "      }\n",
              "      })();\n",
              "    </script>\n",
              "  </div>\n",
              "\n",
              "    </div>\n",
              "  </div>\n"
            ],
            "application/vnd.google.colaboratory.intrinsic+json": {
              "type": "dataframe",
              "variable_name": "Datos",
              "summary": "{\n  \"name\": \"Datos\",\n  \"rows\": 12,\n  \"fields\": [\n    {\n      \"column\": \"Empaques\",\n      \"properties\": {\n        \"dtype\": \"category\",\n        \"num_unique_values\": 4,\n        \"samples\": [\n          \"B\",\n          \"D\",\n          \"A\"\n        ],\n        \"semantic_type\": \"\",\n        \"description\": \"\"\n      }\n    },\n    {\n      \"column\": \"Crecimiento\",\n      \"properties\": {\n        \"dtype\": \"number\",\n        \"std\": 1.7529092700681654,\n        \"min\": 2.91,\n        \"max\": 7.8,\n        \"num_unique_values\": 12,\n        \"samples\": [\n          2.91,\n          3.51,\n          7.66\n        ],\n        \"semantic_type\": \"\",\n        \"description\": \"\"\n      }\n    }\n  ]\n}"
            }
          },
          "metadata": {},
          "execution_count": 23
        }
      ]
    },
    {
      "cell_type": "markdown",
      "source": [
        "# **d. Gráfico de residuos contra las variables explicativas**\n",
        "\n",
        "+ Si hay dependencia entre los residuos y las variables explicativas, verás algún patrón sistemático en los gráficos.\n",
        "\n",
        "+ Además de estos métodos visuales, también puedes realizar pruebas estadísticas formales para verificar la independencia de los residuos, como la prueba de Durbin-Watson o la prueba de Ljung-Box."
      ],
      "metadata": {
        "id": "Lo4H6AJlfnWY"
      }
    },
    {
      "cell_type": "code",
      "source": [
        "# Gráfico de residuos contra las variables explicativas\n",
        "for col in Datos.columns:\n",
        "    plt.scatter(Datos[col], residuos)\n",
        "    plt.title(f'Residuos vs {col}')\n",
        "    plt.xlabel(col)\n",
        "    plt.ylabel('Residuos')\n",
        "    plt.show()\n"
      ],
      "metadata": {
        "colab": {
          "base_uri": "https://localhost:8080/",
          "height": 927
        },
        "id": "Z5BWc-gRZkDK",
        "outputId": "53776a45-4493-40d3-f03b-164fde0a01ea"
      },
      "execution_count": 24,
      "outputs": [
        {
          "output_type": "display_data",
          "data": {
            "text/plain": [
              "<Figure size 640x480 with 1 Axes>"
            ],
            "image/png": "[encoded data removed]"
          },
          "metadata": {}
        },
        {
          "output_type": "display_data",
          "data": {
            "text/plain": [
              "<Figure size 640x480 with 1 Axes>"
            ],
            "image/png": "[encoded data removed]"
          },
          "metadata": {}
        }
      ]
    },
    {
      "cell_type": "markdown",
      "source": [
        "##**Podemos asumir independencia si no encontramos un patrón claro en los gráficos de residuos contra el índice de observación o si la prueba de Durbin-Watson no indica autocorrelación.**"
      ],
      "metadata": {
        "id": "PbnqxgD5gXdt"
      }
    },
    {
      "cell_type": "markdown",
      "source": [
        "## **Paso_12. Prueba de Durbin-Watson**"
      ],
      "metadata": {
        "id": "dNCttmVpghqF"
      }
    },
    {
      "cell_type": "code",
      "source": [
        "from statsmodels.stats.stattools import durbin_watson\n",
        "\n",
        "# Calcular la estadística de Durbin-Watson\n",
        "durbin_watson_statistic = durbin_watson(residuos)\n",
        "\n",
        "# Imprimir la estadística de Durbin-Watson\n",
        "print(\"Estadística de Durbin-Watson:\", durbin_watson_statistic)\n",
        "\n",
        "# Interpretar la estadística de Durbin-Watson\n",
        "if durbin_watson_statistic < 1.5:\n",
        "    print(\"Indica autocorrelación positiva.\")\n",
        "elif durbin_watson_statistic > 2.5:\n",
        "    print(\"Indica autocorrelación negativa.\")\n",
        "else:\n",
        "    print(\"No indica autocorrelación significativa.\")\n"
      ],
      "metadata": {
        "colab": {
          "base_uri": "https://localhost:8080/"
        },
        "id": "ZwGVVcOYa5Rz",
        "outputId": "8a955a6b-b6bc-4482-80f3-567612a9b941"
      },
      "execution_count": 25,
      "outputs": [
        {
          "output_type": "stream",
          "name": "stdout",
          "text": [
            "Estadística de Durbin-Watson: 2.552870090634441\n",
            "Indica autocorrelación negativa.\n"
          ]
        }
      ]
    },
    {
      "cell_type": "markdown",
      "source": [
        "## **Explicación de la Prueba de Durbin Watson**\n",
        "+ La prueba de Durbin-Watson es una prueba estadística utilizada para detectar la presencia de autocorrelación en los residuos de un modelo de regresión.\n",
        "+ La autocorrelación en los residuos significa que los errores están correlacionados entre sí, lo que sugiere que el modelo no está capturando toda la información en los datos.\n",
        "\n",
        "+ La prueba de Durbin-Watson produce un estadístico que tiene un valor entre 0 y 4.\n",
        "+ Un valor de 2 indica que no hay autocorrelación en los residuos.\n",
        "+ Los valores más cercanos a 0 indican autocorrelación positiva (los residuos suelen estar correlacionados positivamente entre sí)\n",
        "+ Los valores más cercanos a 4 indican autocorrelación negativa (los residuos suelen estar correlacionados negativamente entre sí).\n",
        "\n",
        "+ La interpretación del estadístico de Durbin-Watson es la siguiente:\n",
        "\n",
        "  - Si el valor está cerca de 2, no hay autocorrelación significativa.\n",
        "  - Si el valor es menor que 2, indica autocorrelación positiva.\n",
        "  - Si el valor es mayor que 2, indica autocorrelación negativa.\n",
        "\n",
        "\n",
        "\n",
        "\n"
      ],
      "metadata": {
        "id": "JY642nyLg3kS"
      }
    }
  ]
}